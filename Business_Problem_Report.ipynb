{
    "cells": [
        {
            "metadata": {
                "collapsed": true
            },
            "cell_type": "markdown",
            "source": "# The Battle of Neighborhoods Week 1\n"
        },
        {
            "metadata": {},
            "cell_type": "markdown",
            "source": "## Introduction and Business problem"
        },
        {
            "metadata": {},
            "cell_type": "markdown",
            "source": "\n#### Problem Background "
        },
        {
            "metadata": {},
            "cell_type": "markdown",
            "source": "The New york city, is the most populous city as compared to other cities in United States. It is multicultural. It is diverse and financial capital of USA. If we talk about the business opportunities in this city due to its multicultural and populousness there are lots of business opportunities. It would not be wrong to say the market is highly competitive it is because it is attracted many different and new players in the market.The city is major center for banking and finance, retailing, transportation, world trade, tourism, theatre, fashion, real estate, restaurants, etc. in the United States.\nAs it is highly developed city so cost of doing business is also one of the highhest. Thus, any new business or expansion needs to be analysed carefully. The insight derived from analysis will give good understanding of the business enviroment which help in strategically targeting the market. This will help to reduce the risk and the return on investment will be profitable. "
        },
        {
            "metadata": {},
            "cell_type": "markdown",
            "source": "\n#### Problem Description"
        },
        {
            "metadata": {},
            "cell_type": "markdown",
            "source": "\nA restaurant is a business which prepares and serves food and drink to customers in return for money, either paid before the meal, after the meal, or with an open account. The City of New York is famous for its excelllent cuisine. It's food culture includes an array of international cuisines influenced by the city's immigrant history.\n\n* Central and Eastern European immigrants, especially Jewish immigrants - bagels, cheesecake, hot dogs, knishes, and delicatessens\n* Italian immigrants - New York-style pizza and Italian cuisine\n* Italian immigrants - New York-style pizza and Italian cuisine\n* Jewish immigrants and Irish immigrants - pastrami and corned beef\n* Chinese and other Asian restaurants, sandwich joints, trattorias, diners, and coffeehouses are ubiquitous throughout the city\n* Mobile food vendors - Some 4,000 licensed by the city\n* Middle Eastern foods such as falafel and kebabs examples of modern New York street food\n* It is famous for not just Pizzerias, Cafe's but also for fine dining Michelin starred restaurants.The city is home to \"nearly one thousand of the finest and most diverse haute cuisine restaurants in the world\", according to Michelin.\n\nSo it is evident that to survive in such competitive market it is very important to startegically plan. Various factors need to be studied inorder to decide on the Location such as :\n\n* New York Population.\n* New York City Demographics.\n* Are there any Farmers Markets, Wholesale markets etc nearby so that the ingredients can be purchased fresh to maintain quality and cost?\n* Are there any venues like Gyms, Entertainmnet zones, Parks etc nearby where floating population is high etc.\n* Who are the competitors in that location?\n* Cuisine served / Menu of the competitors\n* Segmentation of the Borough\n* Untapped markets\n* Saturated markets etc\n\nEventhough well funded ABC Company Ltd. need to choose the correct location to start its first venture.If this is successful they can replicate the same in other locations. First move is very important, thereby choice of location is very important. \n\n\n"
        },
        {
            "metadata": {},
            "cell_type": "markdown",
            "source": "#### Target Audience"
        },
        {
            "metadata": {},
            "cell_type": "markdown",
            "source": "\n\n\nTo recommend the correct location, ABC Company Ltd has appointed me to lead of the Data Science team. The objective is to locate and recommend to the management which neighborhood of Newyork city will be best choice to start a restaurant. The Management also expects to understand the rationale of the recommendations made.\n\nThis would interest anyone who wants to start a new restaurant in Newyork city.\n"
        },
        {
            "metadata": {},
            "cell_type": "markdown",
            "source": "\n#### Success Criteria"
        },
        {
            "metadata": {},
            "cell_type": "markdown",
            "source": "\nThe success criteria of the project will be a good recommendation of borough/Neighborhood choice to ABC Company Ltd based on Lack of such restaurants in that location and nearest suppliers of ingredients."
        }
    ],
    "metadata": {
        "kernelspec": {
            "name": "python3",
            "display_name": "Python 3.6",
            "language": "python"
        },
        "language_info": {
            "name": "python",
            "version": "3.6.9",
            "mimetype": "text/x-python",
            "codemirror_mode": {
                "name": "ipython",
                "version": 3
            },
            "pygments_lexer": "ipython3",
            "nbconvert_exporter": "python",
            "file_extension": ".py"
        }
    },
    "nbformat": 4,
    "nbformat_minor": 1
}